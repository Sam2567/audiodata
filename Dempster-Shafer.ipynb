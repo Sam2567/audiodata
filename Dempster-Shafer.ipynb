{
 "cells": [
  {
   "cell_type": "code",
   "execution_count": 6,
   "metadata": {},
   "outputs": [
    {
     "name": "stdout",
     "output_type": "stream",
     "text": [
      "Combined Belief: {frozenset({'A'}): 0.9999999999999998}\n"
     ]
    }
   ],
   "source": [
    "import itertools\n",
    "\n",
    "def combine_beliefs(belief1, belief2):\n",
    "    combined_belief = {}\n",
    "    conflict_mass = 0  \n",
    "\n",
    "    \n",
    "    for A, B in itertools.product(belief1.items(), belief2.items()):\n",
    "        A_set, A_mass = A\n",
    "        B_set, B_mass = B\n",
    "\n",
    "        intersection = A_set & B_set\n",
    "        if intersection:\n",
    "            combined_belief[intersection] = combined_belief.get(intersection, 0) + A_mass * B_mass\n",
    "        else:\n",
    "            conflict_mass += A_mass * B_mass\n",
    "\n",
    "    \n",
    "    if conflict_mass < 1:\n",
    "        for subset in combined_belief:\n",
    "            combined_belief[subset] /= (1 - conflict_mass)\n",
    "    else:\n",
    "        raise ValueError(\"Total conflict detected, combination is not possible.\")\n",
    "\n",
    "    return combined_belief\n",
    "\n",
    "\n",
    "belief1 = {\n",
    "    frozenset({'A'}): 0.8,\n",
    "    frozenset(): 0.2  # Uncertainty\n",
    "}\n",
    "\n",
    "belief2 = {\n",
    "    frozenset({'A'}): 0.7,\n",
    "    frozenset(): 0.3  # Uncertainty\n",
    "}\n",
    "\n",
    "combined_belief = combine_beliefs(belief1, belief2)\n",
    "print(\"Combined Belief:\", combined_belief)\n",
    "\n",
    "\n",
    "\n"
   ]
  }
 ],
 "metadata": {
  "kernelspec": {
   "display_name": "aml",
   "language": "python",
   "name": "python3"
  },
  "language_info": {
   "codemirror_mode": {
    "name": "ipython",
    "version": 3
   },
   "file_extension": ".py",
   "mimetype": "text/x-python",
   "name": "python",
   "nbconvert_exporter": "python",
   "pygments_lexer": "ipython3",
   "version": "3.12.4"
  }
 },
 "nbformat": 4,
 "nbformat_minor": 2
}
